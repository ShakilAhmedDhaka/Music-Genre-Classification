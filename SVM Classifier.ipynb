{
 "cells": [
  {
   "cell_type": "code",
   "execution_count": 43,
   "metadata": {},
   "outputs": [],
   "source": [
    "import pandas as pd\n",
    "import numpy as np\n",
    "import itertools\n",
    "import pickle\n",
    "import matplotlib\n",
    "from matplotlib import pyplot as plt\n",
    "import xgboost as xgb\n",
    "from sklearn.linear_model import LogisticRegression\n",
    "from sklearn.svm import SVC\n",
    "from sklearn.ensemble import RandomForestClassifier\n",
    "from sklearn.model_selection import train_test_split\n",
    "from sklearn.preprocessing import MinMaxScaler, OneHotEncoder\n",
    "from sklearn.feature_selection import SelectFromModel\n",
    "from sklearn.decomposition import PCA\n",
    "from sklearn.manifold import TSNE\n",
    "from sklearn.metrics import confusion_matrix, f1_score, accuracy_score, roc_auc_score, roc_curve, auc\n",
    "from scipy import interp\n",
    "from itertools import cycle\n",
    "\n",
    "# matplotlib.rcParams.update({'font.size': 14})\n",
    "%matplotlib inline"
   ]
  },
  {
   "cell_type": "code",
   "execution_count": 44,
   "metadata": {},
   "outputs": [
    {
     "name": "stdout",
     "output_type": "stream",
     "text": [
      "(1000, 54)\n"
     ]
    },
    {
     "data": {
      "text/html": [
       "<div>\n",
       "<style scoped>\n",
       "    .dataframe tbody tr th:only-of-type {\n",
       "        vertical-align: middle;\n",
       "    }\n",
       "\n",
       "    .dataframe tbody tr th {\n",
       "        vertical-align: top;\n",
       "    }\n",
       "\n",
       "    .dataframe thead th {\n",
       "        text-align: right;\n",
       "    }\n",
       "</style>\n",
       "<table border=\"1\" class=\"dataframe\">\n",
       "  <thead>\n",
       "    <tr style=\"text-align: right;\">\n",
       "      <th></th>\n",
       "      <th>file_name</th>\n",
       "      <th>signal_mean</th>\n",
       "      <th>signal_std</th>\n",
       "      <th>zcr_mean</th>\n",
       "      <th>zcr_std</th>\n",
       "      <th>mfccs_1_mean</th>\n",
       "      <th>mfccs_2_mean</th>\n",
       "      <th>mfccs_3_mean</th>\n",
       "      <th>mfccs_4_mean</th>\n",
       "      <th>mfccs_5_mean</th>\n",
       "      <th>...</th>\n",
       "      <th>chroma_censs_3_mean</th>\n",
       "      <th>chroma_censs_4_mean</th>\n",
       "      <th>chroma_censs_5_mean</th>\n",
       "      <th>chroma_censs_6_mean</th>\n",
       "      <th>chroma_censs_7_mean</th>\n",
       "      <th>chroma_censs_8_mean</th>\n",
       "      <th>chroma_censs_9_mean</th>\n",
       "      <th>chroma_censs_10_mean</th>\n",
       "      <th>chroma_censs_11_mean</th>\n",
       "      <th>chroma_censs_12_mean</th>\n",
       "    </tr>\n",
       "  </thead>\n",
       "  <tbody>\n",
       "    <tr>\n",
       "      <th>0</th>\n",
       "      <td>genres/hiphop/hiphop.00033.au</td>\n",
       "      <td>0.172</td>\n",
       "      <td>0.221</td>\n",
       "      <td>0.153</td>\n",
       "      <td>0.088</td>\n",
       "      <td>-31.729</td>\n",
       "      <td>59.700</td>\n",
       "      <td>-2.744</td>\n",
       "      <td>33.421</td>\n",
       "      <td>13.094</td>\n",
       "      <td>...</td>\n",
       "      <td>0.299</td>\n",
       "      <td>0.347</td>\n",
       "      <td>0.280</td>\n",
       "      <td>0.239</td>\n",
       "      <td>0.257</td>\n",
       "      <td>0.212</td>\n",
       "      <td>0.209</td>\n",
       "      <td>0.228</td>\n",
       "      <td>0.310</td>\n",
       "      <td>0.280</td>\n",
       "    </tr>\n",
       "    <tr>\n",
       "      <th>1</th>\n",
       "      <td>genres/hiphop/hiphop.00051.au</td>\n",
       "      <td>0.197</td>\n",
       "      <td>0.259</td>\n",
       "      <td>0.099</td>\n",
       "      <td>0.087</td>\n",
       "      <td>-78.679</td>\n",
       "      <td>73.101</td>\n",
       "      <td>21.824</td>\n",
       "      <td>49.199</td>\n",
       "      <td>3.109</td>\n",
       "      <td>...</td>\n",
       "      <td>0.279</td>\n",
       "      <td>0.354</td>\n",
       "      <td>0.386</td>\n",
       "      <td>0.264</td>\n",
       "      <td>0.170</td>\n",
       "      <td>0.202</td>\n",
       "      <td>0.260</td>\n",
       "      <td>0.339</td>\n",
       "      <td>0.323</td>\n",
       "      <td>0.253</td>\n",
       "    </tr>\n",
       "    <tr>\n",
       "      <th>2</th>\n",
       "      <td>genres/hiphop/hiphop.00015.au</td>\n",
       "      <td>0.107</td>\n",
       "      <td>0.154</td>\n",
       "      <td>0.116</td>\n",
       "      <td>0.050</td>\n",
       "      <td>-81.873</td>\n",
       "      <td>94.714</td>\n",
       "      <td>-16.213</td>\n",
       "      <td>40.539</td>\n",
       "      <td>-12.243</td>\n",
       "      <td>...</td>\n",
       "      <td>0.244</td>\n",
       "      <td>0.286</td>\n",
       "      <td>0.255</td>\n",
       "      <td>0.205</td>\n",
       "      <td>0.338</td>\n",
       "      <td>0.378</td>\n",
       "      <td>0.316</td>\n",
       "      <td>0.238</td>\n",
       "      <td>0.257</td>\n",
       "      <td>0.305</td>\n",
       "    </tr>\n",
       "    <tr>\n",
       "      <th>3</th>\n",
       "      <td>genres/hiphop/hiphop.00042.au</td>\n",
       "      <td>0.204</td>\n",
       "      <td>0.265</td>\n",
       "      <td>0.102</td>\n",
       "      <td>0.075</td>\n",
       "      <td>-74.732</td>\n",
       "      <td>48.884</td>\n",
       "      <td>3.822</td>\n",
       "      <td>36.294</td>\n",
       "      <td>12.973</td>\n",
       "      <td>...</td>\n",
       "      <td>0.593</td>\n",
       "      <td>0.436</td>\n",
       "      <td>0.174</td>\n",
       "      <td>0.131</td>\n",
       "      <td>0.165</td>\n",
       "      <td>0.228</td>\n",
       "      <td>0.186</td>\n",
       "      <td>0.129</td>\n",
       "      <td>0.119</td>\n",
       "      <td>0.108</td>\n",
       "    </tr>\n",
       "    <tr>\n",
       "      <th>4</th>\n",
       "      <td>genres/hiphop/hiphop.00006.au</td>\n",
       "      <td>0.213</td>\n",
       "      <td>0.299</td>\n",
       "      <td>0.128</td>\n",
       "      <td>0.097</td>\n",
       "      <td>-59.579</td>\n",
       "      <td>63.909</td>\n",
       "      <td>3.458</td>\n",
       "      <td>45.271</td>\n",
       "      <td>-1.146</td>\n",
       "      <td>...</td>\n",
       "      <td>0.264</td>\n",
       "      <td>0.319</td>\n",
       "      <td>0.322</td>\n",
       "      <td>0.301</td>\n",
       "      <td>0.336</td>\n",
       "      <td>0.348</td>\n",
       "      <td>0.313</td>\n",
       "      <td>0.266</td>\n",
       "      <td>0.222</td>\n",
       "      <td>0.179</td>\n",
       "    </tr>\n",
       "  </tbody>\n",
       "</table>\n",
       "<p>5 rows × 54 columns</p>\n",
       "</div>"
      ],
      "text/plain": [
       "                       file_name  signal_mean  signal_std  zcr_mean  zcr_std  \\\n",
       "0  genres/hiphop/hiphop.00033.au        0.172       0.221     0.153    0.088   \n",
       "1  genres/hiphop/hiphop.00051.au        0.197       0.259     0.099    0.087   \n",
       "2  genres/hiphop/hiphop.00015.au        0.107       0.154     0.116    0.050   \n",
       "3  genres/hiphop/hiphop.00042.au        0.204       0.265     0.102    0.075   \n",
       "4  genres/hiphop/hiphop.00006.au        0.213       0.299     0.128    0.097   \n",
       "\n",
       "   mfccs_1_mean  mfccs_2_mean  mfccs_3_mean  mfccs_4_mean  mfccs_5_mean  \\\n",
       "0       -31.729        59.700        -2.744        33.421        13.094   \n",
       "1       -78.679        73.101        21.824        49.199         3.109   \n",
       "2       -81.873        94.714       -16.213        40.539       -12.243   \n",
       "3       -74.732        48.884         3.822        36.294        12.973   \n",
       "4       -59.579        63.909         3.458        45.271        -1.146   \n",
       "\n",
       "           ...           chroma_censs_3_mean  chroma_censs_4_mean  \\\n",
       "0          ...                         0.299                0.347   \n",
       "1          ...                         0.279                0.354   \n",
       "2          ...                         0.244                0.286   \n",
       "3          ...                         0.593                0.436   \n",
       "4          ...                         0.264                0.319   \n",
       "\n",
       "   chroma_censs_5_mean  chroma_censs_6_mean  chroma_censs_7_mean  \\\n",
       "0                0.280                0.239                0.257   \n",
       "1                0.386                0.264                0.170   \n",
       "2                0.255                0.205                0.338   \n",
       "3                0.174                0.131                0.165   \n",
       "4                0.322                0.301                0.336   \n",
       "\n",
       "   chroma_censs_8_mean  chroma_censs_9_mean  chroma_censs_10_mean  \\\n",
       "0                0.212                0.209                 0.228   \n",
       "1                0.202                0.260                 0.339   \n",
       "2                0.378                0.316                 0.238   \n",
       "3                0.228                0.186                 0.129   \n",
       "4                0.348                0.313                 0.266   \n",
       "\n",
       "   chroma_censs_11_mean  chroma_censs_12_mean  \n",
       "0                 0.310                 0.280  \n",
       "1                 0.323                 0.253  \n",
       "2                 0.257                 0.305  \n",
       "3                 0.119                 0.108  \n",
       "4                 0.222                 0.179  \n",
       "\n",
       "[5 rows x 54 columns]"
      ]
     },
     "execution_count": 44,
     "metadata": {},
     "output_type": "execute_result"
    }
   ],
   "source": [
    "df = pd.read_csv('df_features.csv')\n",
    "print(df.shape)\n",
    "df.head()"
   ]
  },
  {
   "cell_type": "code",
   "execution_count": 45,
   "metadata": {
    "scrolled": true
   },
   "outputs": [
    {
     "data": {
      "text/html": [
       "<div>\n",
       "<style scoped>\n",
       "    .dataframe tbody tr th:only-of-type {\n",
       "        vertical-align: middle;\n",
       "    }\n",
       "\n",
       "    .dataframe tbody tr th {\n",
       "        vertical-align: top;\n",
       "    }\n",
       "\n",
       "    .dataframe thead th {\n",
       "        text-align: right;\n",
       "    }\n",
       "</style>\n",
       "<table border=\"1\" class=\"dataframe\">\n",
       "  <thead>\n",
       "    <tr style=\"text-align: right;\">\n",
       "      <th></th>\n",
       "      <th>file_name</th>\n",
       "      <th>signal_mean</th>\n",
       "      <th>signal_std</th>\n",
       "      <th>zcr_mean</th>\n",
       "      <th>zcr_std</th>\n",
       "      <th>mfccs_1_mean</th>\n",
       "      <th>mfccs_2_mean</th>\n",
       "      <th>mfccs_3_mean</th>\n",
       "      <th>mfccs_4_mean</th>\n",
       "      <th>mfccs_5_mean</th>\n",
       "      <th>...</th>\n",
       "      <th>chroma_censs_4_mean</th>\n",
       "      <th>chroma_censs_5_mean</th>\n",
       "      <th>chroma_censs_6_mean</th>\n",
       "      <th>chroma_censs_7_mean</th>\n",
       "      <th>chroma_censs_8_mean</th>\n",
       "      <th>chroma_censs_9_mean</th>\n",
       "      <th>chroma_censs_10_mean</th>\n",
       "      <th>chroma_censs_11_mean</th>\n",
       "      <th>chroma_censs_12_mean</th>\n",
       "      <th>label</th>\n",
       "    </tr>\n",
       "  </thead>\n",
       "  <tbody>\n",
       "    <tr>\n",
       "      <th>0</th>\n",
       "      <td>genres/hiphop/hiphop.00033.au</td>\n",
       "      <td>0.523364</td>\n",
       "      <td>0.533835</td>\n",
       "      <td>0.519841</td>\n",
       "      <td>0.500000</td>\n",
       "      <td>0.875845</td>\n",
       "      <td>0.314362</td>\n",
       "      <td>0.594502</td>\n",
       "      <td>0.524480</td>\n",
       "      <td>0.739134</td>\n",
       "      <td>...</td>\n",
       "      <td>0.688488</td>\n",
       "      <td>0.446154</td>\n",
       "      <td>0.379610</td>\n",
       "      <td>0.456067</td>\n",
       "      <td>0.376906</td>\n",
       "      <td>0.284024</td>\n",
       "      <td>0.375536</td>\n",
       "      <td>0.517928</td>\n",
       "      <td>0.444685</td>\n",
       "      <td>4</td>\n",
       "    </tr>\n",
       "    <tr>\n",
       "      <th>1</th>\n",
       "      <td>genres/hiphop/hiphop.00051.au</td>\n",
       "      <td>0.601246</td>\n",
       "      <td>0.629073</td>\n",
       "      <td>0.305556</td>\n",
       "      <td>0.493827</td>\n",
       "      <td>0.796825</td>\n",
       "      <td>0.383241</td>\n",
       "      <td>0.762141</td>\n",
       "      <td>0.683164</td>\n",
       "      <td>0.597162</td>\n",
       "      <td>...</td>\n",
       "      <td>0.704289</td>\n",
       "      <td>0.679121</td>\n",
       "      <td>0.433839</td>\n",
       "      <td>0.274059</td>\n",
       "      <td>0.355120</td>\n",
       "      <td>0.384615</td>\n",
       "      <td>0.613734</td>\n",
       "      <td>0.543825</td>\n",
       "      <td>0.386117</td>\n",
       "      <td>4</td>\n",
       "    </tr>\n",
       "    <tr>\n",
       "      <th>2</th>\n",
       "      <td>genres/hiphop/hiphop.00015.au</td>\n",
       "      <td>0.320872</td>\n",
       "      <td>0.365915</td>\n",
       "      <td>0.373016</td>\n",
       "      <td>0.265432</td>\n",
       "      <td>0.791450</td>\n",
       "      <td>0.494328</td>\n",
       "      <td>0.502596</td>\n",
       "      <td>0.596068</td>\n",
       "      <td>0.378880</td>\n",
       "      <td>...</td>\n",
       "      <td>0.550790</td>\n",
       "      <td>0.391209</td>\n",
       "      <td>0.305857</td>\n",
       "      <td>0.625523</td>\n",
       "      <td>0.738562</td>\n",
       "      <td>0.495069</td>\n",
       "      <td>0.396996</td>\n",
       "      <td>0.412351</td>\n",
       "      <td>0.498915</td>\n",
       "      <td>4</td>\n",
       "    </tr>\n",
       "    <tr>\n",
       "      <th>3</th>\n",
       "      <td>genres/hiphop/hiphop.00042.au</td>\n",
       "      <td>0.623053</td>\n",
       "      <td>0.644110</td>\n",
       "      <td>0.317460</td>\n",
       "      <td>0.419753</td>\n",
       "      <td>0.803468</td>\n",
       "      <td>0.258770</td>\n",
       "      <td>0.639305</td>\n",
       "      <td>0.553374</td>\n",
       "      <td>0.737413</td>\n",
       "      <td>...</td>\n",
       "      <td>0.889391</td>\n",
       "      <td>0.213187</td>\n",
       "      <td>0.145336</td>\n",
       "      <td>0.263598</td>\n",
       "      <td>0.411765</td>\n",
       "      <td>0.238659</td>\n",
       "      <td>0.163090</td>\n",
       "      <td>0.137450</td>\n",
       "      <td>0.071584</td>\n",
       "      <td>4</td>\n",
       "    </tr>\n",
       "    <tr>\n",
       "      <th>4</th>\n",
       "      <td>genres/hiphop/hiphop.00006.au</td>\n",
       "      <td>0.651090</td>\n",
       "      <td>0.729323</td>\n",
       "      <td>0.420635</td>\n",
       "      <td>0.555556</td>\n",
       "      <td>0.828972</td>\n",
       "      <td>0.335996</td>\n",
       "      <td>0.636821</td>\n",
       "      <td>0.643659</td>\n",
       "      <td>0.536662</td>\n",
       "      <td>...</td>\n",
       "      <td>0.625282</td>\n",
       "      <td>0.538462</td>\n",
       "      <td>0.514100</td>\n",
       "      <td>0.621339</td>\n",
       "      <td>0.673203</td>\n",
       "      <td>0.489152</td>\n",
       "      <td>0.457082</td>\n",
       "      <td>0.342629</td>\n",
       "      <td>0.225597</td>\n",
       "      <td>4</td>\n",
       "    </tr>\n",
       "  </tbody>\n",
       "</table>\n",
       "<p>5 rows × 55 columns</p>\n",
       "</div>"
      ],
      "text/plain": [
       "                       file_name  signal_mean  signal_std  zcr_mean   zcr_std  \\\n",
       "0  genres/hiphop/hiphop.00033.au     0.523364    0.533835  0.519841  0.500000   \n",
       "1  genres/hiphop/hiphop.00051.au     0.601246    0.629073  0.305556  0.493827   \n",
       "2  genres/hiphop/hiphop.00015.au     0.320872    0.365915  0.373016  0.265432   \n",
       "3  genres/hiphop/hiphop.00042.au     0.623053    0.644110  0.317460  0.419753   \n",
       "4  genres/hiphop/hiphop.00006.au     0.651090    0.729323  0.420635  0.555556   \n",
       "\n",
       "   mfccs_1_mean  mfccs_2_mean  mfccs_3_mean  mfccs_4_mean  mfccs_5_mean  \\\n",
       "0      0.875845      0.314362      0.594502      0.524480      0.739134   \n",
       "1      0.796825      0.383241      0.762141      0.683164      0.597162   \n",
       "2      0.791450      0.494328      0.502596      0.596068      0.378880   \n",
       "3      0.803468      0.258770      0.639305      0.553374      0.737413   \n",
       "4      0.828972      0.335996      0.636821      0.643659      0.536662   \n",
       "\n",
       "   ...    chroma_censs_4_mean  chroma_censs_5_mean  chroma_censs_6_mean  \\\n",
       "0  ...               0.688488             0.446154             0.379610   \n",
       "1  ...               0.704289             0.679121             0.433839   \n",
       "2  ...               0.550790             0.391209             0.305857   \n",
       "3  ...               0.889391             0.213187             0.145336   \n",
       "4  ...               0.625282             0.538462             0.514100   \n",
       "\n",
       "   chroma_censs_7_mean  chroma_censs_8_mean  chroma_censs_9_mean  \\\n",
       "0             0.456067             0.376906             0.284024   \n",
       "1             0.274059             0.355120             0.384615   \n",
       "2             0.625523             0.738562             0.495069   \n",
       "3             0.263598             0.411765             0.238659   \n",
       "4             0.621339             0.673203             0.489152   \n",
       "\n",
       "   chroma_censs_10_mean  chroma_censs_11_mean  chroma_censs_12_mean  label  \n",
       "0              0.375536              0.517928              0.444685      4  \n",
       "1              0.613734              0.543825              0.386117      4  \n",
       "2              0.396996              0.412351              0.498915      4  \n",
       "3              0.163090              0.137450              0.071584      4  \n",
       "4              0.457082              0.342629              0.225597      4  \n",
       "\n",
       "[5 rows x 55 columns]"
      ]
     },
     "execution_count": 45,
     "metadata": {},
     "output_type": "execute_result"
    }
   ],
   "source": [
    "label_dict = {\n",
    "    'blues':0,\n",
    "    'classical':1,\n",
    "    'country':2,\n",
    "    'disco':3,\n",
    "    'hiphop':4,\n",
    "    'jazz':5,\n",
    "    'metal':6,\n",
    "    'pop':7,\n",
    "    'reggae':8,\n",
    "    'rock':9,\n",
    "}\n",
    "\n",
    "# Normalization of the features\n",
    "scalar = MinMaxScaler()\n",
    "df[df.columns[1:]] = scalar.fit_transform(df[df.columns[1:]])\n",
    "df['label'] = df['file_name'].apply(lambda x: label_dict[x.split('/')[2][:-9]])\n",
    "df.head()"
   ]
  },
  {
   "cell_type": "code",
   "execution_count": 46,
   "metadata": {},
   "outputs": [
    {
     "data": {
      "text/plain": [
       "1000"
      ]
     },
     "execution_count": 46,
     "metadata": {},
     "output_type": "execute_result"
    }
   ],
   "source": [
    "len(df)"
   ]
  },
  {
   "cell_type": "code",
   "execution_count": 47,
   "metadata": {},
   "outputs": [
    {
     "data": {
      "text/plain": [
       "['reggae_00025.au', 'blues_00015.au', 'metal_00059.au']"
      ]
     },
     "execution_count": 47,
     "metadata": {},
     "output_type": "execute_result"
    }
   ],
   "source": [
    "with open('pred_probas/testset_filenames.txt', 'r') as f:\n",
    "    test_files = f.readlines()\n",
    "test_files = [t.strip() for t in test_files]\n",
    "test_files[:3]"
   ]
  },
  {
   "cell_type": "code",
   "execution_count": 48,
   "metadata": {},
   "outputs": [],
   "source": [
    "# Train-test split of files # Same split as used for VGG model\n",
    "# with open('pred_probas/testset_filenames.txt', 'r') as f:\n",
    "#     test_files = f.readlines()\n",
    "# test_files = [t.strip() for t in test_files]\n",
    "\n",
    "# for ind, t in enumerate(test_files):\n",
    "#     test_files[ind] = 'genres/' + t.split('_')[0] + '/' + t.split('_')[0] + '.' + t.split('_')[1]\n",
    "\n",
    "# indices = []\n",
    "# for t in test_files:\n",
    "#     indices.append(df[df.file_name== t].index[0])\n",
    "    \n",
    "# df_test = df.iloc[indices,:]\n",
    "# df.drop(labels=indices, inplace=True)\n",
    "\n",
    "# x_train = df[df.columns[1:-1]]\n",
    "# x_test = df_test[df.columns[1:-1]]\n",
    "# y_train = df['label']\n",
    "# y_test = df_test['label']"
   ]
  },
  {
   "cell_type": "code",
   "execution_count": 59,
   "metadata": {},
   "outputs": [],
   "source": [
    "ran = pd.DataFrame(np.random.randn(1000, 2))\n",
    "msk = np.random.rand(len(ran)) < 0.8\n",
    "train = df[msk]\n",
    "test = df[~msk]"
   ]
  },
  {
   "cell_type": "code",
   "execution_count": 60,
   "metadata": {},
   "outputs": [],
   "source": [
    "x_train = train[df.columns[1:-1]]\n",
    "x_test = test[df.columns[1:-1]]\n",
    "y_train = train['label']\n",
    "y_test = test['label']"
   ]
  },
  {
   "cell_type": "code",
   "execution_count": 61,
   "metadata": {},
   "outputs": [
    {
     "data": {
      "text/plain": [
       "795"
      ]
     },
     "execution_count": 61,
     "metadata": {},
     "output_type": "execute_result"
    }
   ],
   "source": [
    "len(x_train)"
   ]
  },
  {
   "cell_type": "code",
   "execution_count": 62,
   "metadata": {},
   "outputs": [
    {
     "data": {
      "text/plain": [
       "205"
      ]
     },
     "execution_count": 62,
     "metadata": {},
     "output_type": "execute_result"
    }
   ],
   "source": [
    "len(x_test)"
   ]
  },
  {
   "cell_type": "code",
   "execution_count": 63,
   "metadata": {},
   "outputs": [],
   "source": [
    "def plot_confusion_matrix(cm, classes,\n",
    "                          normalize=False,\n",
    "                          title='Confusion matrix',\n",
    "                          cmap=plt.cm.Blues):\n",
    "    \"\"\"\n",
    "    This function prints and plots the confusion matrix.\n",
    "    Normalization can be applied by setting `normalize=True`.\n",
    "    \"\"\"\n",
    "    # plt.figure(figsize=(8,8))\n",
    "    plt.imshow(cm, interpolation='nearest', cmap=cmap)\n",
    "    plt.title(title)\n",
    "    plt.colorbar()\n",
    "    tick_marks = np.arange(len(classes))\n",
    "    plt.xticks(tick_marks, classes, rotation=45)\n",
    "    plt.yticks(tick_marks, classes)\n",
    "\n",
    "    if normalize:\n",
    "        cm = cm.astype('float') / cm.sum(axis=1)[:, np.newaxis]\n",
    "        print(\"Normalized confusion matrix\")\n",
    "    else:\n",
    "        print('Confusion matrix, without normalization')\n",
    "\n",
    "    print(cm)\n",
    "\n",
    "    thresh = cm.max() / 2.\n",
    "    for i, j in itertools.product(range(cm.shape[0]), range(cm.shape[1])):\n",
    "        plt.text(j, i, cm[i, j],\n",
    "                 horizontalalignment=\"center\",\n",
    "                 color=\"white\" if cm[i, j] > thresh else \"black\")\n",
    "\n",
    "    plt.tight_layout()\n",
    "    plt.ylabel('True label')\n",
    "    plt.xlabel('Predicted label')\n",
    "    return plt"
   ]
  },
  {
   "cell_type": "code",
   "execution_count": 64,
   "metadata": {},
   "outputs": [],
   "source": [
    "def one_hot_encoder(true_labels, num_records, num_classes):\n",
    "    temp = np.array(true_labels[:num_records])\n",
    "    true_labels = np.zeros((num_records, num_classes))\n",
    "    true_labels[np.arange(num_records), temp] = 1\n",
    "    return true_labels\n",
    "\n",
    "def display_results(classifier, y_test, pred_probs, cm = True):\n",
    "    pred = np.argmax(pred_probs, axis=-1)\n",
    "    one_hot_true = one_hot_encoder(y_test, len(pred), len(label_dict))\n",
    "    print('Test Set Accuracy =  {0:.2f}'.format(accuracy_score(y_test, pred)))\n",
    "    print('Test Set F-score =  {0:.2f}'.format(f1_score(y_test, pred, average='macro')))\n",
    "    print('ROC AUC = {0:.3f}'.format(roc_auc_score(y_true=one_hot_true, y_score=pred_probs, average='macro')))\n",
    "    if cm:\n",
    "        pl = plot_confusion_matrix(confusion_matrix(y_test, pred), classes=label_dict.keys())\n",
    "        pl.savefig('plots/' + classifier + '_confusion_matrix.jpg')"
   ]
  },
  {
   "cell_type": "markdown",
   "metadata": {},
   "source": [
    "### Logistic Regression"
   ]
  },
  {
   "cell_type": "code",
   "execution_count": 65,
   "metadata": {},
   "outputs": [
    {
     "name": "stdout",
     "output_type": "stream",
     "text": [
      "Test Set Accuracy =  0.57\n",
      "Test Set F-score =  0.54\n",
      "ROC AUC = 0.901\n",
      "Confusion matrix, without normalization\n",
      "[[14  1  2  1  0  1  1  0  2  0]\n",
      " [ 0 16  0  1  0  0  0  0  0  0]\n",
      " [ 4  1  9  0  1  3  0  2  1  1]\n",
      " [ 1  1  2 11  2  0  2  2  0  0]\n",
      " [ 1  0  0  3  6  0  3  6  3  1]\n",
      " [ 1  6  0  0  0  9  0  0  1  0]\n",
      " [ 1  0  0  0  1  0 20  0  0  0]\n",
      " [ 0  0  0  1  1  1  0 16  1  0]\n",
      " [ 0  0  0  0  3  1  0  1 13  1]\n",
      " [ 3  0  1  4  0  1  6  3  2  2]]\n",
      "CPU times: user 616 ms, sys: 616 ms, total: 1.23 s\n",
      "Wall time: 532 ms\n"
     ]
    },
    {
     "data": {
      "image/png": "[encoded data removed]",
      "text/plain": [
       "<Figure size 432x288 with 2 Axes>"
      ]
     },
     "metadata": {},
     "output_type": "display_data"
    }
   ],
   "source": [
    "%%time\n",
    "# Train\n",
    "lr_classifier = LogisticRegression(penalty='l2')\n",
    "lr_classifier.fit(x_train, y_train)\n",
    "\n",
    "# Predict\n",
    "pred_probs = lr_classifier.predict_proba(x_test)\n",
    "\n",
    "# Results\n",
    "display_results('LR', y_test, pred_probs)\n",
    "\n",
    "# Save\n",
    "with open('pred_probas/lr_classifier.pkl', 'wb') as f:\n",
    "    pickle.dump(pred_probs, f)"
   ]
  },
  {
   "cell_type": "markdown",
   "metadata": {},
   "source": [
    "### Random Forest"
   ]
  },
  {
   "cell_type": "code",
   "execution_count": 66,
   "metadata": {},
   "outputs": [
    {
     "name": "stdout",
     "output_type": "stream",
     "text": [
      "Test Set Accuracy =  0.62\n",
      "Test Set F-score =  0.60\n",
      "ROC AUC = 0.927\n",
      "Confusion matrix, without normalization\n",
      "[[15  0  3  0  0  1  2  0  0  1]\n",
      " [ 0 16  0  0  0  0  0  0  1  0]\n",
      " [ 1  1 14  0  0  1  0  1  2  2]\n",
      " [ 0  1  1 11  3  0  1  2  0  2]\n",
      " [ 0  0  0  2 12  0  3  3  2  1]\n",
      " [ 0  6  0  1  0 10  0  0  0  0]\n",
      " [ 1  0  0  0  0  0 21  0  0  0]\n",
      " [ 0  1  1  1  1  1  0 15  0  0]\n",
      " [ 0  0  1  2  2  1  1  0 12  0]\n",
      " [ 2  0  2  7  0  4  3  1  2  1]]\n",
      "CPU times: user 3.06 s, sys: 664 ms, total: 3.72 s\n",
      "Wall time: 3.03 s\n"
     ]
    },
    {
     "data": {
      "image/png": "[encoded data removed]",
      "text/plain": [
       "<Figure size 432x288 with 2 Axes>"
      ]
     },
     "metadata": {},
     "output_type": "display_data"
    }
   ],
   "source": [
    "%%time\n",
    "# Train\n",
    "rf_classifier = RandomForestClassifier(n_estimators=500, min_samples_split=5)\n",
    "rf_classifier.fit(x_train, y_train)\n",
    "\n",
    "# Predict\n",
    "pred_probs = rf_classifier.predict_proba(x_test)\n",
    "\n",
    "# Results\n",
    "display_results('RF', y_test, pred_probs)\n",
    "\n",
    "# Save\n",
    "with open('pred_probas/rf_classifier.pkl', 'wb') as f:\n",
    "    pickle.dump(pred_probs, f)"
   ]
  },
  {
   "cell_type": "markdown",
   "metadata": {},
   "source": [
    "### Support Vector Machines"
   ]
  },
  {
   "cell_type": "code",
   "execution_count": 67,
   "metadata": {
    "scrolled": true
   },
   "outputs": [
    {
     "name": "stdout",
     "output_type": "stream",
     "text": [
      "Test Set Accuracy =  0.65\n",
      "Test Set F-score =  0.65\n",
      "ROC AUC = 0.925\n",
      "Confusion matrix, without normalization\n",
      "[[14  0  1  0  0  2  2  0  2  1]\n",
      " [ 0 16  0  1  0  0  0  0  0  0]\n",
      " [ 1  0 12  0  1  4  0  1  0  3]\n",
      " [ 0  1  1 13  2  0  1  2  0  1]\n",
      " [ 0  0  0  1 14  0  1  1  3  3]\n",
      " [ 0  3  0  2  0 12  0  0  0  0]\n",
      " [ 1  0  0  1  1  0 18  0  0  1]\n",
      " [ 0  0  0  1  2  1  0 14  1  1]\n",
      " [ 0  0  1  2  2  0  0  2 12  0]\n",
      " [ 1  0  1  4  0  1  4  1  2  8]]\n",
      "CPU times: user 984 ms, sys: 640 ms, total: 1.62 s\n",
      "Wall time: 935 ms\n"
     ]
    },
    {
     "data": {
      "image/png": "[encoded data removed]",
      "text/plain": [
       "<Figure size 432x288 with 2 Axes>"
      ]
     },
     "metadata": {},
     "output_type": "display_data"
    }
   ],
   "source": [
    "%%time\n",
    "# Train\n",
    "svm_classifier = SVC(C=10000.0, probability = True, kernel='rbf')\n",
    "svm_classifier.fit(x_train, y_train)\n",
    "\n",
    "# Predict\n",
    "pred_probs = svm_classifier.predict_proba(x_test)\n",
    "\n",
    "# Results\n",
    "display_results('SVM', y_test, pred_probs)\n",
    "\n",
    "# Save\n",
    "with open('pred_probas/svm_classifier.pkl', 'wb') as f:\n",
    "    pickle.dump(pred_probs, f)"
   ]
  },
  {
   "cell_type": "markdown",
   "metadata": {},
   "source": [
    "### Gradient Boosting"
   ]
  },
  {
   "cell_type": "code",
   "execution_count": 68,
   "metadata": {},
   "outputs": [
    {
     "name": "stdout",
     "output_type": "stream",
     "text": [
      "Test Set Accuracy =  0.63\n",
      "Test Set F-score =  0.62\n",
      "ROC AUC = 0.925\n",
      "Confusion matrix, without normalization\n",
      "[[14  1  2  0  0  1  3  0  1  0]\n",
      " [ 0 16  0  0  0  0  0  0  1  0]\n",
      " [ 2  1 14  0  0  0  0  1  3  1]\n",
      " [ 0  1  1 12  3  0  1  2  0  1]\n",
      " [ 0  0  1  3 10  0  5  1  3  0]\n",
      " [ 0  5  0  2  0 10  0  0  0  0]\n",
      " [ 2  0  0  0  1  0 19  0  0  0]\n",
      " [ 0  0  0  0  2  0  0 17  1  0]\n",
      " [ 0  0  1  1  3  0  0  0 12  2]\n",
      " [ 2  0  2  6  1  1  1  2  2  5]]\n",
      "CPU times: user 10 s, sys: 664 ms, total: 10.7 s\n",
      "Wall time: 9.98 s\n"
     ]
    },
    {
     "data": {
      "image/png": "[encoded data removed]",
      "text/plain": [
       "<Figure size 432x288 with 2 Axes>"
      ]
     },
     "metadata": {},
     "output_type": "display_data"
    }
   ],
   "source": [
    "%%time\n",
    "# Train\n",
    "xgb_classifier = xgb.XGBClassifier(max_depth=5, learning_rate=0.1, objective='multi:softprob', \n",
    "                                   n_estimators=500, sub_sample = 0.8, num_class = len(label_dict))\n",
    "xgb_classifier.fit(x_train, y_train)\n",
    "\n",
    "# Predict\n",
    "pred_probs = xgb_classifier.predict_proba(x_test)\n",
    "\n",
    "# Results\n",
    "display_results('xgb', y_test, pred_probs)\n",
    "\n",
    "# Save\n",
    "with open('pred_probas/xgb_classifier.pkl', 'wb') as f:\n",
    "    pickle.dump(pred_probs, f)"
   ]
  },
  {
   "cell_type": "markdown",
   "metadata": {},
   "source": [
    "### Most Important Feature"
   ]
  },
  {
   "cell_type": "code",
   "execution_count": 69,
   "metadata": {},
   "outputs": [
    {
     "data": {
      "image/png": "[encoded data removed]",
      "text/plain": [
       "<Figure size 576x576 with 1 Axes>"
      ]
     },
     "metadata": {},
     "output_type": "display_data"
    }
   ],
   "source": [
    "ax = xgb.plot_importance(xgb_classifier, max_num_features=20, height=0.5, show_values=False)\n",
    "fig = ax.figure\n",
    "fig.set_size_inches(8, 8)\n",
    "plt.savefig('plots/important_features.jpg', bbox_inches='tight')"
   ]
  },
  {
   "cell_type": "code",
   "execution_count": 70,
   "metadata": {},
   "outputs": [],
   "source": [
    "contribution_scores = xgb_classifier.feature_importances_"
   ]
  },
  {
   "cell_type": "code",
   "execution_count": 71,
   "metadata": {},
   "outputs": [
    {
     "name": "stdout",
     "output_type": "stream",
     "text": [
      "Stats for top 10 features:\n",
      "Test Set Accuracy =  0.63\n",
      "Test Set F-score =  0.64\n",
      "ROC AUC = 0.915\n",
      "()\n",
      "Stats for top 20 features:\n",
      "Test Set Accuracy =  0.68\n",
      "Test Set F-score =  0.68\n",
      "ROC AUC = 0.935\n",
      "()\n",
      "Stats for top 30 features:\n",
      "Test Set Accuracy =  0.66\n",
      "Test Set F-score =  0.66\n",
      "ROC AUC = 0.929\n",
      "()\n"
     ]
    }
   ],
   "source": [
    "top_n = [10, 20, 30]\n",
    "for n in top_n:\n",
    "    threshold = np.argsort(contribution_scores)[::-1][:n][-1]\n",
    "    print('Stats for top {} features:'.format(n))\n",
    "    # Select features using threshold\n",
    "    selection = SelectFromModel(xgb_classifier, threshold=contribution_scores[threshold], prefit=True)\n",
    "    select_x_train = selection.transform(x_train)\n",
    "    select_x_test = selection.transform(x_test)\n",
    "    \n",
    "    # Train\n",
    "    select_svm_classifier = SVC(C=10000.0, probability = True, kernel='rbf')\n",
    "    select_svm_classifier.fit(select_x_train, y_train)\n",
    "\n",
    "    # Predict\n",
    "    pred_probs = select_svm_classifier.predict_proba(select_x_test)\n",
    "\n",
    "    # Results\n",
    "    display_results('SVM_with_'+str(n)+\"_features\", y_test, pred_probs, cm = False)     \n",
    "    print()"
   ]
  },
  {
   "cell_type": "code",
   "execution_count": null,
   "metadata": {},
   "outputs": [],
   "source": []
  }
 ],
 "metadata": {
  "kernelspec": {
   "display_name": "Python 2",
   "language": "python",
   "name": "python2"
  },
  "language_info": {
   "codemirror_mode": {
    "name": "ipython",
    "version": 2
   },
   "file_extension": ".py",
   "mimetype": "text/x-python",
   "name": "python",
   "nbconvert_exporter": "python",
   "pygments_lexer": "ipython2",
   "version": "2.7.12"
  }
 },
 "nbformat": 4,
 "nbformat_minor": 2
}
